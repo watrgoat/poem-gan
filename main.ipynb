{
 "cells": [
  {
   "cell_type": "code",
   "execution_count": null,
   "metadata": {},
   "outputs": [],
   "source": [
    "%pip install -r requirements.txt"
   ]
  },
  {
   "cell_type": "code",
   "execution_count": null,
   "metadata": {},
   "outputs": [],
   "source": [
    "# scrape https://www.poetryfoundation.org/poems/browse#page=1&sort_by=recently_added for 40,000 poems?"
   ]
  },
  {
   "cell_type": "code",
   "execution_count": 113,
   "metadata": {},
   "outputs": [],
   "source": [
    "import pandas as pd\n",
    "import tensorflow as tf\n",
    "import numpy as np"
   ]
  },
  {
   "cell_type": "code",
   "execution_count": 117,
   "metadata": {},
   "outputs": [],
   "source": [
    "df = pd.read_csv('POEMS.csv')\n",
    "df = df.drop(columns=['Unnamed: 0', 'Poet', 'Tags'])"
   ]
  },
  {
   "cell_type": "code",
   "execution_count": 118,
   "metadata": {},
   "outputs": [
    {
     "data": {
      "text/plain": [
       "'\\r\\r\\n\\r\\r\\n'"
      ]
     },
     "execution_count": 118,
     "metadata": {},
     "output_type": "execute_result"
    }
   ],
   "source": [
    "df.Poem[13851]"
   ]
  },
  {
   "cell_type": "code",
   "execution_count": 103,
   "metadata": {},
   "outputs": [],
   "source": [
    "# cleaning up poems\n",
    "for i in range(len(df)):\n",
    "    temp = df.Poem[i].strip()\n",
    "    temp = temp.split('\\r\\r\\n')\n",
    "    temp = [t.strip() for t in temp]\n",
    "    df.Poem[i] = [t for t in temp if t]\n",
    "    df.Title[i] = df.Title[i].strip()"
   ]
  },
  {
   "cell_type": "code",
   "execution_count": 112,
   "metadata": {},
   "outputs": [],
   "source": [
    "# df.to_csv('clean_poems.csv', index=False, encoding='utf-8')"
   ]
  },
  {
   "cell_type": "code",
   "execution_count": null,
   "metadata": {},
   "outputs": [],
   "source": [
    "# how should i go about generating new lines"
   ]
  },
  {
   "cell_type": "code",
   "execution_count": 114,
   "metadata": {},
   "outputs": [],
   "source": [
    "df = pd.read_csv('clean_poems.csv')"
   ]
  },
  {
   "cell_type": "code",
   "execution_count": 116,
   "metadata": {},
   "outputs": [
    {
     "data": {
      "text/plain": [
       "'[]'"
      ]
     },
     "execution_count": 116,
     "metadata": {},
     "output_type": "execute_result"
    }
   ],
   "source": [
    "df.Poem[13851]"
   ]
  },
  {
   "cell_type": "code",
   "execution_count": 76,
   "metadata": {},
   "outputs": [],
   "source": [
    "import fasttext"
   ]
  },
  {
   "cell_type": "code",
   "execution_count": 77,
   "metadata": {},
   "outputs": [
    {
     "ename": "TypeError",
     "evalue": "(): incompatible function arguments. The following argument types are supported:\n    1. (self: fasttext_pybind.args, arg0: str) -> None\n\nInvoked with: <fasttext_pybind.args object at 0x0000022759A94C70>, 0        [Dog bone, stapler,, cribbage board, garlic pr...\n1        [The old cupola glinted above the clouds, shon...\n2        [Look for me under the hood, of that old Chevr...\n3        [Behind the silo, the Mother Rabbit, hunches l...\n4        [When I push your button, you fly off the hand...\n                               ...                        \n13849    [We'd  like  to  talk  with  you  about  fear ...\n13850                                                   []\n13851                                                   []\n13852    [Philosophic, in its complex, ovoid emptiness,...\n13853    [Dear Writers, I’m compiling the first in what...\nName: Poem, Length: 13854, dtype: object",
     "output_type": "error",
     "traceback": [
      "\u001b[1;31m---------------------------------------------------------------------------\u001b[0m",
      "\u001b[1;31mTypeError\u001b[0m                                 Traceback (most recent call last)",
      "Cell \u001b[1;32mIn[77], line 1\u001b[0m\n\u001b[1;32m----> 1\u001b[0m model \u001b[39m=\u001b[39m fasttext\u001b[39m.\u001b[39;49mtrain_unsupervised(poems, model\u001b[39m=\u001b[39;49m\u001b[39m'\u001b[39;49m\u001b[39mskipgram\u001b[39;49m\u001b[39m'\u001b[39;49m)\n",
      "File \u001b[1;32m~\\AppData\\Local\\Packages\\PythonSoftwareFoundation.Python.3.9_qbz5n2kfra8p0\\LocalCache\\local-packages\\Python39\\site-packages\\fasttext\\FastText.py:557\u001b[0m, in \u001b[0;36mtrain_unsupervised\u001b[1;34m(*kargs, **kwargs)\u001b[0m\n\u001b[0;32m    552\u001b[0m arg_names \u001b[39m=\u001b[39m [\u001b[39m'\u001b[39m\u001b[39minput\u001b[39m\u001b[39m'\u001b[39m, \u001b[39m'\u001b[39m\u001b[39mmodel\u001b[39m\u001b[39m'\u001b[39m, \u001b[39m'\u001b[39m\u001b[39mlr\u001b[39m\u001b[39m'\u001b[39m, \u001b[39m'\u001b[39m\u001b[39mdim\u001b[39m\u001b[39m'\u001b[39m, \u001b[39m'\u001b[39m\u001b[39mws\u001b[39m\u001b[39m'\u001b[39m, \u001b[39m'\u001b[39m\u001b[39mepoch\u001b[39m\u001b[39m'\u001b[39m, \u001b[39m'\u001b[39m\u001b[39mminCount\u001b[39m\u001b[39m'\u001b[39m,\n\u001b[0;32m    553\u001b[0m              \u001b[39m'\u001b[39m\u001b[39mminCountLabel\u001b[39m\u001b[39m'\u001b[39m, \u001b[39m'\u001b[39m\u001b[39mminn\u001b[39m\u001b[39m'\u001b[39m, \u001b[39m'\u001b[39m\u001b[39mmaxn\u001b[39m\u001b[39m'\u001b[39m, \u001b[39m'\u001b[39m\u001b[39mneg\u001b[39m\u001b[39m'\u001b[39m, \u001b[39m'\u001b[39m\u001b[39mwordNgrams\u001b[39m\u001b[39m'\u001b[39m, \u001b[39m'\u001b[39m\u001b[39mloss\u001b[39m\u001b[39m'\u001b[39m, \u001b[39m'\u001b[39m\u001b[39mbucket\u001b[39m\u001b[39m'\u001b[39m,\n\u001b[0;32m    554\u001b[0m              \u001b[39m'\u001b[39m\u001b[39mthread\u001b[39m\u001b[39m'\u001b[39m, \u001b[39m'\u001b[39m\u001b[39mlrUpdateRate\u001b[39m\u001b[39m'\u001b[39m, \u001b[39m'\u001b[39m\u001b[39mt\u001b[39m\u001b[39m'\u001b[39m, \u001b[39m'\u001b[39m\u001b[39mlabel\u001b[39m\u001b[39m'\u001b[39m, \u001b[39m'\u001b[39m\u001b[39mverbose\u001b[39m\u001b[39m'\u001b[39m, \u001b[39m'\u001b[39m\u001b[39mpretrainedVectors\u001b[39m\u001b[39m'\u001b[39m]\n\u001b[0;32m    555\u001b[0m args, manually_set_args \u001b[39m=\u001b[39m read_args(kargs, kwargs, arg_names,\n\u001b[0;32m    556\u001b[0m                                     unsupervised_default)\n\u001b[1;32m--> 557\u001b[0m a \u001b[39m=\u001b[39m _build_args(args, manually_set_args)\n\u001b[0;32m    558\u001b[0m ft \u001b[39m=\u001b[39m _FastText(args\u001b[39m=\u001b[39ma)\n\u001b[0;32m    559\u001b[0m fasttext\u001b[39m.\u001b[39mtrain(ft\u001b[39m.\u001b[39mf, a)\n",
      "File \u001b[1;32m~\\AppData\\Local\\Packages\\PythonSoftwareFoundation.Python.3.9_qbz5n2kfra8p0\\LocalCache\\local-packages\\Python39\\site-packages\\fasttext\\FastText.py:422\u001b[0m, in \u001b[0;36m_build_args\u001b[1;34m(args, manually_set_args)\u001b[0m\n\u001b[0;32m    420\u001b[0m a \u001b[39m=\u001b[39m fasttext\u001b[39m.\u001b[39margs()\n\u001b[0;32m    421\u001b[0m \u001b[39mfor\u001b[39;00m (k, v) \u001b[39min\u001b[39;00m args\u001b[39m.\u001b[39mitems():\n\u001b[1;32m--> 422\u001b[0m     \u001b[39msetattr\u001b[39;49m(a, k, v)\n\u001b[0;32m    423\u001b[0m     \u001b[39mif\u001b[39;00m k \u001b[39min\u001b[39;00m manually_set_args:\n\u001b[0;32m    424\u001b[0m         a\u001b[39m.\u001b[39msetManual(k)\n",
      "\u001b[1;31mTypeError\u001b[0m: (): incompatible function arguments. The following argument types are supported:\n    1. (self: fasttext_pybind.args, arg0: str) -> None\n\nInvoked with: <fasttext_pybind.args object at 0x0000022759A94C70>, 0        [Dog bone, stapler,, cribbage board, garlic pr...\n1        [The old cupola glinted above the clouds, shon...\n2        [Look for me under the hood, of that old Chevr...\n3        [Behind the silo, the Mother Rabbit, hunches l...\n4        [When I push your button, you fly off the hand...\n                               ...                        \n13849    [We'd  like  to  talk  with  you  about  fear ...\n13850                                                   []\n13851                                                   []\n13852    [Philosophic, in its complex, ovoid emptiness,...\n13853    [Dear Writers, I’m compiling the first in what...\nName: Poem, Length: 13854, dtype: object"
     ]
    }
   ],
   "source": [
    "model = fasttext.train_unsupervised(poems, model='skipgram')"
   ]
  },
  {
   "cell_type": "code",
   "execution_count": null,
   "metadata": {},
   "outputs": [],
   "source": [
    "# log the devices being used for tensorflow operations\n",
    "tf.debugging.set_log_device_placement(True)"
   ]
  },
  {
   "cell_type": "code",
   "execution_count": null,
   "metadata": {},
   "outputs": [],
   "source": []
  }
 ],
 "metadata": {
  "kernelspec": {
   "display_name": "Python 3",
   "language": "python",
   "name": "python3"
  },
  "language_info": {
   "codemirror_mode": {
    "name": "ipython",
    "version": 3
   },
   "file_extension": ".py",
   "mimetype": "text/x-python",
   "name": "python",
   "nbconvert_exporter": "python",
   "pygments_lexer": "ipython3",
   "version": "3.9.13"
  },
  "orig_nbformat": 4,
  "vscode": {
   "interpreter": {
    "hash": "a940dd860dc355cf12de7c6e789bde0b494d41255d0443cce9e7aeeb3f61f9d3"
   }
  }
 },
 "nbformat": 4,
 "nbformat_minor": 2
}
