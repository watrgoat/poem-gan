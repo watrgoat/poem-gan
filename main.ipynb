{
 "cells": [
  {
   "cell_type": "code",
   "execution_count": null,
   "metadata": {},
   "outputs": [],
   "source": [
    "%pip install -r requirements.txt"
   ]
  },
  {
   "cell_type": "code",
   "execution_count": null,
   "metadata": {},
   "outputs": [],
   "source": [
    "# scrape https://www.poetryfoundation.org/poems/browse#page=1&sort_by=recently_added for 40,000 poems?"
   ]
  },
  {
   "cell_type": "code",
   "execution_count": 2,
   "metadata": {},
   "outputs": [],
   "source": [
    "import pandas as pd\n",
    "import tensorflow as tf\n",
    "import numpy as np"
   ]
  },
  {
   "cell_type": "code",
   "execution_count": 39,
   "metadata": {},
   "outputs": [],
   "source": [
    "df = pd.read_csv('POEMS.csv')"
   ]
  },
  {
   "cell_type": "code",
   "execution_count": 40,
   "metadata": {},
   "outputs": [
    {
     "ename": "TypeError",
     "evalue": "'bool' object is not iterable",
     "output_type": "error",
     "traceback": [
      "\u001b[1;31m---------------------------------------------------------------------------\u001b[0m",
      "\u001b[1;31mTypeError\u001b[0m                                 Traceback (most recent call last)",
      "Cell \u001b[1;32mIn[40], line 6\u001b[0m\n\u001b[0;32m      4\u001b[0m temp \u001b[39m=\u001b[39m poems[i]\u001b[39m.\u001b[39mstrip()\n\u001b[0;32m      5\u001b[0m temp \u001b[39m=\u001b[39m temp\u001b[39m.\u001b[39msplit(\u001b[39m'\u001b[39m\u001b[39m\\r\u001b[39;00m\u001b[39m\\r\u001b[39;00m\u001b[39m\\n\u001b[39;00m\u001b[39m'\u001b[39m)\n\u001b[1;32m----> 6\u001b[0m temp \u001b[39m=\u001b[39m [t\u001b[39m.\u001b[39mstrip() \u001b[39mfor\u001b[39;00m t \u001b[39min\u001b[39;00m temp \u001b[39m!=\u001b[39m \u001b[39m'\u001b[39m\u001b[39m'\u001b[39m]\n\u001b[0;32m      7\u001b[0m poems[i] \u001b[39m=\u001b[39m temp\n",
      "\u001b[1;31mTypeError\u001b[0m: 'bool' object is not iterable"
     ]
    }
   ],
   "source": [
    "poems = df.Poem\n",
    "poems = poems.squeeze()\n",
    "for i in range(len(poems)):\n",
    "    temp = poems[i].strip()\n",
    "    temp = temp.split('\\r\\r\\n')\n",
    "    temp = [t.strip() for t in temp]\n",
    "    poems[i] = temp"
   ]
  },
  {
   "cell_type": "code",
   "execution_count": 33,
   "metadata": {},
   "outputs": [],
   "source": []
  },
  {
   "cell_type": "code",
   "execution_count": 38,
   "metadata": {},
   "outputs": [
    {
     "ename": "AttributeError",
     "evalue": "'list' object has no attribute 'strip'",
     "output_type": "error",
     "traceback": [
      "\u001b[1;31m---------------------------------------------------------------------------\u001b[0m",
      "\u001b[1;31mAttributeError\u001b[0m                            Traceback (most recent call last)",
      "Cell \u001b[1;32mIn[38], line 2\u001b[0m\n\u001b[0;32m      1\u001b[0m \u001b[39mfor\u001b[39;00m i \u001b[39min\u001b[39;00m \u001b[39mrange\u001b[39m(\u001b[39mlen\u001b[39m(df)):\n\u001b[1;32m----> 2\u001b[0m     temp \u001b[39m=\u001b[39m df[i]\u001b[39m.\u001b[39;49mstrip()\n\u001b[0;32m      3\u001b[0m     temp \u001b[39m=\u001b[39m temp\u001b[39m.\u001b[39msplit(\u001b[39m'\u001b[39m\u001b[39m\\r\u001b[39;00m\u001b[39m\\r\u001b[39;00m\u001b[39m\\n\u001b[39;00m\u001b[39m'\u001b[39m)\n\u001b[0;32m      4\u001b[0m     temp \u001b[39m=\u001b[39m [t\u001b[39m.\u001b[39mstrip() \u001b[39mfor\u001b[39;00m t \u001b[39min\u001b[39;00m temp \u001b[39m!=\u001b[39m \u001b[39m'\u001b[39m\u001b[39m'\u001b[39m]\n",
      "\u001b[1;31mAttributeError\u001b[0m: 'list' object has no attribute 'strip'"
     ]
    }
   ],
   "source": [
    "\n",
    "    "
   ]
  },
  {
   "cell_type": "code",
   "execution_count": 37,
   "metadata": {},
   "outputs": [
    {
     "data": {
      "text/plain": [
       "['In her last notes, when her hand began',\n",
       " 'to tremble, my mother tried to teach it',\n",
       " '',\n",
       " 'the penmanship she was known for,',\n",
       " 'how to make the slanted stems',\n",
       " '',\n",
       " \"of the p's and d's, the descending\",\n",
       " \"roundness of the capital m's, the long\",\n",
       " '',\n",
       " \"loops of the f's crossed at the center,\",\n",
       " 'sending it back again and again',\n",
       " '',\n",
       " 'until each message was the same:',\n",
       " 'a record of her insistence that the hand',\n",
       " '',\n",
       " 'return her to the way she was before,',\n",
       " 'and of all the ways the hand had disobeyed.']"
      ]
     },
     "execution_count": 37,
     "metadata": {},
     "output_type": "execute_result"
    }
   ],
   "source": [
    "df[200]"
   ]
  },
  {
   "cell_type": "code",
   "execution_count": null,
   "metadata": {},
   "outputs": [],
   "source": [
    "for i in range(len(df)):\n",
    "    df[i] = df[i].replace('\\r', '')"
   ]
  },
  {
   "cell_type": "code",
   "execution_count": null,
   "metadata": {},
   "outputs": [],
   "source": [
    "# how should i go about generating new lines\n",
    "# the lines of poems are extremely important. maybe create a new line feature?\n",
    "# EACH LINE WILL BE A FEATURE: IM A GENIUS IF IT WORKS if it doesnt then whatever\n",
    "# but now the problem is what to do with the poems of less length?\n",
    "# NaN values?"
   ]
  },
  {
   "cell_type": "code",
   "execution_count": null,
   "metadata": {},
   "outputs": [],
   "source": [
    "top = []\n",
    "for i in range(len(df)):\n",
    "    sub = df[i]\n",
    "    sub = sub.replace('\\r', '')\n",
    "    sub = sub.split('\\n')\n",
    "    if len(sub) > len(top):\n",
    "        top = sub\n",
    "\n",
    "print(top)\n"
   ]
  },
  {
   "cell_type": "code",
   "execution_count": null,
   "metadata": {},
   "outputs": [],
   "source": []
  },
  {
   "cell_type": "code",
   "execution_count": null,
   "metadata": {},
   "outputs": [],
   "source": [
    "# log the devices being used for tensorflow operations\n",
    "tf.debugging.set_log_device_placement(True)"
   ]
  },
  {
   "cell_type": "code",
   "execution_count": null,
   "metadata": {},
   "outputs": [],
   "source": []
  }
 ],
 "metadata": {
  "kernelspec": {
   "display_name": "Python 3",
   "language": "python",
   "name": "python3"
  },
  "language_info": {
   "codemirror_mode": {
    "name": "ipython",
    "version": 3
   },
   "file_extension": ".py",
   "mimetype": "text/x-python",
   "name": "python",
   "nbconvert_exporter": "python",
   "pygments_lexer": "ipython3",
   "version": "3.9.13"
  },
  "orig_nbformat": 4,
  "vscode": {
   "interpreter": {
    "hash": "a940dd860dc355cf12de7c6e789bde0b494d41255d0443cce9e7aeeb3f61f9d3"
   }
  }
 },
 "nbformat": 4,
 "nbformat_minor": 2
}
