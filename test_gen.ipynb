{
 "cells": [
  {
   "cell_type": "code",
   "execution_count": 35,
   "metadata": {},
   "outputs": [
    {
     "name": "stdout",
     "output_type": "stream",
     "text": [
      "Requirement already satisfied: pandas in c:\\users\\oliver\\poem-gan\\venv\\lib\\site-packages (from -r requirements.txt (line 1)) (1.5.3)\n",
      "Requirement already satisfied: beautifulsoup4 in c:\\users\\oliver\\poem-gan\\venv\\lib\\site-packages (from -r requirements.txt (line 2)) (4.11.2)\n",
      "Requirement already satisfied: numpy in c:\\users\\oliver\\poem-gan\\venv\\lib\\site-packages (from -r requirements.txt (line 3)) (1.24.2)\n",
      "Collecting langdetect\n",
      "  Using cached langdetect-1.0.9-py3-none-any.whl\n",
      "Requirement already satisfied: python-dateutil>=2.8.1 in c:\\users\\oliver\\poem-gan\\venv\\lib\\site-packages (from pandas->-r requirements.txt (line 1)) (2.8.2)\n",
      "Requirement already satisfied: pytz>=2020.1 in c:\\users\\oliver\\poem-gan\\venv\\lib\\site-packages (from pandas->-r requirements.txt (line 1)) (2022.7.1)\n",
      "Requirement already satisfied: soupsieve>1.2 in c:\\users\\oliver\\poem-gan\\venv\\lib\\site-packages (from beautifulsoup4->-r requirements.txt (line 2)) (2.4)\n",
      "Requirement already satisfied: six in c:\\users\\oliver\\poem-gan\\venv\\lib\\site-packages (from langdetect->-r requirements.txt (line 4)) (1.16.0)\n",
      "Installing collected packages: langdetect\n",
      "Successfully installed langdetect-1.0.9\n",
      "Note: you may need to restart the kernel to use updated packages.\n"
     ]
    }
   ],
   "source": [
    "%pip install -r requirements.txt"
   ]
  },
  {
   "cell_type": "code",
   "execution_count": null,
   "metadata": {},
   "outputs": [],
   "source": [
    "# scrape https://www.poetryfoundation.org/poems/browse#page=1&sort_by=recently_added for 40,000 poems?"
   ]
  },
  {
   "cell_type": "code",
   "execution_count": 1,
   "metadata": {},
   "outputs": [],
   "source": [
    "import pandas as pd\n",
    "import tensorflow as tf\n",
    "import numpy as np\n",
    "import string\n",
    "import logging\n",
    "import re"
   ]
  },
  {
   "cell_type": "code",
   "execution_count": 41,
   "metadata": {},
   "outputs": [
    {
     "name": "stdout",
     "output_type": "stream",
     "text": [
      "13877\n"
     ]
    }
   ],
   "source": [
    "df = pd.read_pickle('poets_org.pickle')\n",
    "print(len(df))"
   ]
  },
  {
   "cell_type": "code",
   "execution_count": 46,
   "metadata": {},
   "outputs": [],
   "source": [
    "for i, poem in enumerate(df.content):\n",
    "    if poem == '':\n",
    "        df.drop(index=i, inplace=True)\n",
    "df.reset_index(drop=True, inplace=True)"
   ]
  },
  {
   "cell_type": "code",
   "execution_count": 47,
   "metadata": {},
   "outputs": [
    {
     "data": {
      "text/plain": [
       "13823"
      ]
     },
     "execution_count": 47,
     "metadata": {},
     "output_type": "execute_result"
    }
   ],
   "source": [
    "len(df)"
   ]
  },
  {
   "cell_type": "code",
   "execution_count": 48,
   "metadata": {},
   "outputs": [],
   "source": [
    "df.to_pickle('poets_org.pickle')"
   ]
  },
  {
   "cell_type": "code",
   "execution_count": 49,
   "metadata": {},
   "outputs": [
    {
     "name": "stdout",
     "output_type": "stream",
     "text": [
      "16464\n"
     ]
    }
   ],
   "source": [
    "df1 = pd.read_pickle('mostly_english_poems.pickle')\n",
    "print(len(df1))"
   ]
  },
  {
   "cell_type": "code",
   "execution_count": 50,
   "metadata": {},
   "outputs": [
    {
     "name": "stdout",
     "output_type": "stream",
     "text": [
      "13674\n"
     ]
    }
   ],
   "source": [
    "df = pd.read_pickle('filtered_poems.pickle')\n",
    "print(len(df))"
   ]
  },
  {
   "cell_type": "code",
   "execution_count": 51,
   "metadata": {},
   "outputs": [],
   "source": [
    "frames = [df, df1]"
   ]
  },
  {
   "cell_type": "code",
   "execution_count": 52,
   "metadata": {},
   "outputs": [],
   "source": [
    "df = pd.concat(frames)"
   ]
  },
  {
   "cell_type": "code",
   "execution_count": 53,
   "metadata": {},
   "outputs": [],
   "source": [
    "df.reset_index(drop=True, inplace=True)"
   ]
  },
  {
   "cell_type": "code",
   "execution_count": 54,
   "metadata": {},
   "outputs": [
    {
     "data": {
      "text/plain": [
       "0        Do not go gentle into that good night,\\nOld ag...\n",
       "1        How do I love thee? Let me count the ways.\\nI ...\n",
       "2        Shall I compare thee to a summer’s day?\\nThou ...\n",
       "3        If you can keep your head when all about you\\n...\n",
       "4        Nature’s first green is gold,\\nHer hardest hue...\n",
       "                               ...                        \n",
       "30133    The happiest day--the happiest hour\\n  My sear...\n",
       "30134    Wreathed in myrtle, my sword I'll conceal,\\n  ...\n",
       "30135    Oh! that my young life were a lasting dream!\\n...\n",
       "30136    _How often we forget all time, when lone\\nAdmi...\n",
       "30137    How shall the burial rite be read?\\n  The sole...\n",
       "Name: content, Length: 30138, dtype: object"
      ]
     },
     "execution_count": 54,
     "metadata": {},
     "output_type": "execute_result"
    }
   ],
   "source": [
    "df.content"
   ]
  },
  {
   "cell_type": "code",
   "execution_count": 69,
   "metadata": {},
   "outputs": [],
   "source": [
    "df = pd.read_pickle('filtered_poems.pickle')"
   ]
  },
  {
   "cell_type": "code",
   "execution_count": 70,
   "metadata": {},
   "outputs": [],
   "source": [
    "df.reset_index(drop=True, inplace=True)"
   ]
  },
  {
   "cell_type": "code",
   "execution_count": 71,
   "metadata": {},
   "outputs": [],
   "source": [
    "seen_title = set()\n",
    "seen_auth = set()\n",
    "for i in range(len(df)):\n",
    "    title = df.title[i]\n",
    "    author = df.author[i]\n",
    "    if title in seen_title and author in seen_auth:\n",
    "        df.drop(index=i, inplace=True)\n",
    "    else:\n",
    "        seen_title.add(title)\n",
    "        seen_auth.add(author)"
   ]
  },
  {
   "cell_type": "code",
   "execution_count": 72,
   "metadata": {},
   "outputs": [
    {
     "name": "stdout",
     "output_type": "stream",
     "text": [
      "26817\n"
     ]
    }
   ],
   "source": [
    "df.reset_index(drop=True, inplace=True)\n",
    "print(len(df))"
   ]
  },
  {
   "cell_type": "code",
   "execution_count": 73,
   "metadata": {},
   "outputs": [],
   "source": [
    "df.to_pickle('mostly_english_poems.pickle')"
   ]
  },
  {
   "cell_type": "code",
   "execution_count": 74,
   "metadata": {},
   "outputs": [
    {
     "name": "stderr",
     "output_type": "stream",
     "text": [
      "[nltk_data] Downloading package punkt to\n",
      "[nltk_data]     C:\\Users\\oliver\\AppData\\Roaming\\nltk_data...\n",
      "[nltk_data]   Package punkt is already up-to-date!\n"
     ]
    },
    {
     "data": {
      "text/plain": [
       "True"
      ]
     },
     "execution_count": 74,
     "metadata": {},
     "output_type": "execute_result"
    }
   ],
   "source": [
    "import nltk\n",
    "nltk.download('punkt')"
   ]
  },
  {
   "cell_type": "code",
   "execution_count": 75,
   "metadata": {},
   "outputs": [],
   "source": [
    "Poems = df.content.map(lambda x: nltk.tokenize.word_tokenize(x))"
   ]
  },
  {
   "cell_type": "code",
   "execution_count": 76,
   "metadata": {},
   "outputs": [
    {
     "data": {
      "text/plain": [
       "['How',\n",
       " 'do',\n",
       " 'I',\n",
       " 'love',\n",
       " 'thee',\n",
       " '?',\n",
       " 'Let',\n",
       " 'me',\n",
       " 'count',\n",
       " 'the',\n",
       " 'ways',\n",
       " '.',\n",
       " 'I',\n",
       " 'love',\n",
       " 'thee',\n",
       " 'to',\n",
       " 'the',\n",
       " 'depth',\n",
       " 'and',\n",
       " 'breadth',\n",
       " 'and',\n",
       " 'height',\n",
       " 'My',\n",
       " 'soul',\n",
       " 'can',\n",
       " 'reach',\n",
       " ',',\n",
       " 'when',\n",
       " 'feeling',\n",
       " 'out',\n",
       " 'of',\n",
       " 'sight',\n",
       " 'For',\n",
       " 'the',\n",
       " 'ends',\n",
       " 'of',\n",
       " 'being',\n",
       " 'and',\n",
       " 'ideal',\n",
       " 'grace',\n",
       " '.',\n",
       " 'I',\n",
       " 'love',\n",
       " 'thee',\n",
       " 'to',\n",
       " 'the',\n",
       " 'level',\n",
       " 'of',\n",
       " 'every',\n",
       " 'day',\n",
       " '’',\n",
       " 's',\n",
       " 'Most',\n",
       " 'quiet',\n",
       " 'need',\n",
       " ',',\n",
       " 'by',\n",
       " 'sun',\n",
       " 'and',\n",
       " 'candle-light',\n",
       " '.',\n",
       " 'I',\n",
       " 'love',\n",
       " 'thee',\n",
       " 'freely',\n",
       " ',',\n",
       " 'as',\n",
       " 'men',\n",
       " 'strive',\n",
       " 'for',\n",
       " 'right',\n",
       " '.',\n",
       " 'I',\n",
       " 'love',\n",
       " 'thee',\n",
       " 'purely',\n",
       " ',',\n",
       " 'as',\n",
       " 'they',\n",
       " 'turn',\n",
       " 'from',\n",
       " 'praise',\n",
       " '.',\n",
       " 'I',\n",
       " 'love',\n",
       " 'thee',\n",
       " 'with',\n",
       " 'the',\n",
       " 'passion',\n",
       " 'put',\n",
       " 'to',\n",
       " 'use',\n",
       " 'In',\n",
       " 'my',\n",
       " 'old',\n",
       " 'griefs',\n",
       " ',',\n",
       " 'and',\n",
       " 'with',\n",
       " 'my',\n",
       " 'childhood',\n",
       " '’',\n",
       " 's',\n",
       " 'faith',\n",
       " '.',\n",
       " 'I',\n",
       " 'love',\n",
       " 'thee',\n",
       " 'with',\n",
       " 'a',\n",
       " 'love',\n",
       " 'I',\n",
       " 'seemed',\n",
       " 'to',\n",
       " 'lose',\n",
       " 'With',\n",
       " 'my',\n",
       " 'lost',\n",
       " 'saints',\n",
       " '.',\n",
       " 'I',\n",
       " 'love',\n",
       " 'thee',\n",
       " 'with',\n",
       " 'the',\n",
       " 'breath',\n",
       " ',',\n",
       " 'Smiles',\n",
       " ',',\n",
       " 'tears',\n",
       " ',',\n",
       " 'of',\n",
       " 'all',\n",
       " 'my',\n",
       " 'life',\n",
       " ';',\n",
       " 'and',\n",
       " ',',\n",
       " 'if',\n",
       " 'God',\n",
       " 'choose',\n",
       " ',',\n",
       " 'I',\n",
       " 'shall',\n",
       " 'but',\n",
       " 'love',\n",
       " 'thee',\n",
       " 'better',\n",
       " 'after',\n",
       " 'death',\n",
       " '.']"
      ]
     },
     "execution_count": 76,
     "metadata": {},
     "output_type": "execute_result"
    }
   ],
   "source": [
    "Poems[1]"
   ]
  },
  {
   "cell_type": "code",
   "execution_count": 77,
   "metadata": {},
   "outputs": [],
   "source": [
    "def BiGram(dic, poem):\n",
    "    a = poem\n",
    "    b = poem[1:]\n",
    "    for i in range(len(b)):\n",
    "        if(a[i] in dic):\n",
    "            if(b[i] in dic[a[i]]):\n",
    "                dic[a[i]][b[i]] = dic[a[i]][b[i]]+1\n",
    "            else:\n",
    "                dic[a[i]][b[i]] = 1\n",
    "        else:\n",
    "            dic[a[i]]={b[i]:1}\n",
    "            \n",
    "    return(dic)"
   ]
  },
  {
   "cell_type": "code",
   "execution_count": 78,
   "metadata": {},
   "outputs": [],
   "source": [
    "dicBi = {} # The dictionary for the BiGram model\n",
    "for poem in Poems: #Feed it all the poems\n",
    "    dicBi = BiGram(dicBi, poem) #Build the model!"
   ]
  },
  {
   "cell_type": "code",
   "execution_count": 79,
   "metadata": {},
   "outputs": [],
   "source": [
    "def Next_word(word, dic):\n",
    "    Max = 0\n",
    "    next_word = \"\"\n",
    "    for i,j in list(dic[word].items()):\n",
    "        if(j>Max):\n",
    "            Max = j\n",
    "            next_word = i\n",
    "    return(next_word)"
   ]
  },
  {
   "cell_type": "code",
   "execution_count": 80,
   "metadata": {},
   "outputs": [],
   "source": [
    "prev_word = \"how\"\n",
    "generate_str = prev_word\n",
    "for i in range(20):\n",
    "    next_word = Next_word(prev_word, dicBi)\n",
    "    prev_word = next_word\n",
    "    generate_str = generate_str+\" \"+ next_word"
   ]
  },
  {
   "cell_type": "code",
   "execution_count": 81,
   "metadata": {},
   "outputs": [
    {
     "data": {
      "text/plain": [
       "'how to the world , and the world , and the world , and the world , and the world ,'"
      ]
     },
     "execution_count": 81,
     "metadata": {},
     "output_type": "execute_result"
    }
   ],
   "source": [
    "generate_str"
   ]
  },
  {
   "cell_type": "code",
   "execution_count": 82,
   "metadata": {},
   "outputs": [],
   "source": [
    "def NGram(dictionary, poem, nGram):\n",
    "    Number_of_Ngrams = len(poem)-nGram+1\n",
    "\n",
    "    for position in range(Number_of_Ngrams):\n",
    "        words = [] \n",
    "        for nWord in range(nGram):\n",
    "            words = words + [poem[nWord+position]]\n",
    "        temp_dic = dictionary\n",
    "\n",
    "        for nWord in range(nGram):\n",
    "            current_word = words[nWord]\n",
    "            last_word = nWord+1==nGram\n",
    "            if(current_word in temp_dic):\n",
    "                if(last_word):\n",
    "                    temp_dic[current_word] = temp_dic[current_word]+1 #Increase the Ngram Count by 1\n",
    "                else:    \n",
    "                    temp_dic = temp_dic[current_word]\n",
    "            else:\n",
    "                create_dic = 0\n",
    "                if(last_word):\n",
    "                    create_dic = 1\n",
    "                else:\n",
    "                    create_dic = {words[-1]:1}\n",
    "                \n",
    "                for k in range(nGram-2,nWord,-1):\n",
    "                    create_dic = {words[k]:create_dic}\n",
    "                temp_dic[current_word] = create_dic\n",
    "                break\n",
    "    return(dictionary)"
   ]
  },
  {
   "cell_type": "code",
   "execution_count": 83,
   "metadata": {},
   "outputs": [],
   "source": [
    "dic4 = {}\n",
    "for i in Poems:\n",
    "    dic4 = NGram(dic4, i, 4)"
   ]
  },
  {
   "cell_type": "code",
   "execution_count": 88,
   "metadata": {},
   "outputs": [],
   "source": [
    "def Next_word3(word1,word2,word3, dic):\n",
    "    Max = 0\n",
    "    next_word = \"\"\n",
    "    for i,j in list(dic[word1][word2][word3].items()):\n",
    "        if(j>Max):\n",
    "            Max = j\n",
    "            next_word = i\n",
    "    return(next_word)\n",
    "#Next_word3(\"NEWLINE\",\"love\",\"is\",dic4)"
   ]
  },
  {
   "cell_type": "code",
   "execution_count": 90,
   "metadata": {},
   "outputs": [
    {
     "name": "stdout",
     "output_type": "stream",
     "text": [
      "what is this ? What nerve agent did Rembrandt hide within the dark shades of paint that he used ? What inside me had malfunctioned , had left me kneeling and sobbing in a museum , slowly rots away and its parts are gradually replaced . Eventually none of the words we say\n"
     ]
    }
   ],
   "source": [
    "prev_word1 = \"what\"\n",
    "prev_word2 = \"is\"#\"Next_word(prev_word1, dic)\"\n",
    "prev_word3 = \"this\"# Next_word2(prev_word1,prev_word2, dic2)\n",
    "generate_str = prev_word1+\" \"+prev_word2 + \" \" +prev_word3\n",
    "for i in range(50):\n",
    "    next_word = Next_word3(prev_word1, prev_word2,prev_word3, dic4)\n",
    "    prev_word1 = prev_word2\n",
    "    prev_word2 = prev_word3\n",
    "    prev_word3 = next_word\n",
    "    generate_str = generate_str+\" \"+ next_word\n",
    "print(generate_str.replace(\"NEWLINE \",\"\\n\"))"
   ]
  },
  {
   "cell_type": "code",
   "execution_count": 86,
   "metadata": {},
   "outputs": [],
   "source": [
    "# how should i go about generating new lines"
   ]
  },
  {
   "cell_type": "code",
   "execution_count": 87,
   "metadata": {},
   "outputs": [],
   "source": [
    "# log the devices being used for tensorflow operations\n",
    "tf.debugging.set_log_device_placement(True)"
   ]
  },
  {
   "cell_type": "code",
   "execution_count": null,
   "metadata": {},
   "outputs": [],
   "source": []
  }
 ],
 "metadata": {
  "kernelspec": {
   "display_name": "Python 3",
   "language": "python",
   "name": "python3"
  },
  "language_info": {
   "codemirror_mode": {
    "name": "ipython",
    "version": 3
   },
   "file_extension": ".py",
   "mimetype": "text/x-python",
   "name": "python",
   "nbconvert_exporter": "python",
   "pygments_lexer": "ipython3",
   "version": "3.9.13"
  },
  "orig_nbformat": 4,
  "vscode": {
   "interpreter": {
    "hash": "a940dd860dc355cf12de7c6e789bde0b494d41255d0443cce9e7aeeb3f61f9d3"
   }
  }
 },
 "nbformat": 4,
 "nbformat_minor": 2
}
