{
 "cells": [
  {
   "cell_type": "code",
   "execution_count": null,
   "metadata": {},
   "outputs": [],
   "source": [
    "%pip install -r requirements.txt"
   ]
  },
  {
   "cell_type": "code",
   "execution_count": null,
   "metadata": {},
   "outputs": [],
   "source": [
    "# scrape https://www.poetryfoundation.org/poems/browse#page=1&sort_by=recently_added for 40,000 poems?"
   ]
  },
  {
   "cell_type": "code",
   "execution_count": 3,
   "metadata": {},
   "outputs": [],
   "source": [
    "import pandas as pd\n",
    "import tensorflow as tf\n",
    "import numpy as np\n",
    "import string\n",
    "import logging"
   ]
  },
  {
   "cell_type": "code",
   "execution_count": 4,
   "metadata": {},
   "outputs": [],
   "source": [
    "with open('hi.txt', encoding='utf-8') as f:\n",
    "    data = f.readlines()\n",
    "bad_chars = ',& '\n",
    "ndf = pd.DataFrame(columns=['Title', 'Author', 'Attributes', 'Poem'])\n",
    "start = 0\n",
    "for i in range(len(data)):\n",
    "    data[i] = data[i][:-1]\n",
    "    attr = None\n",
    "    if data[i] == '<|endoftext|>':\n",
    "        title_idx = data[start].find(' by ')\n",
    "        title = data[start][1:title_idx-2]\n",
    "        author = data[start][title_idx+4:]\n",
    "        if author[-1] == ']':\n",
    "            attr = author[author.find('[')+1:-1]\n",
    "            author = author[:author.find('[')]\n",
    "            attr = attr.replace('&', ' ').replace('   ', ',').lower()\n",
    "            attr = attr.split(',')\n",
    "            for j in range(len(attr)):\n",
    "                attr[j] = attr[j].strip()\n",
    "            while '' in attr:\n",
    "                attr.remove('')\n",
    "        pm = data[start+1:i]\n",
    "        while '' in pm:\n",
    "            pm.remove('')\n",
    "        t = ''\n",
    "        for j in range(len(pm)):\n",
    "            t += pm[j].lower()+' NEWLINE\\n '\n",
    "        temp = [title, author, attr, t]\n",
    "        ndf.loc[len(ndf)] = temp\n",
    "        start = i+1\n"
   ]
  },
  {
   "cell_type": "code",
   "execution_count": 7,
   "metadata": {},
   "outputs": [
    {
     "name": "stderr",
     "output_type": "stream",
     "text": [
      "[nltk_data] Downloading package punkt to\n",
      "[nltk_data]     C:\\Users\\oliver\\AppData\\Roaming\\nltk_data...\n",
      "[nltk_data]   Package punkt is already up-to-date!\n"
     ]
    },
    {
     "data": {
      "text/plain": [
       "True"
      ]
     },
     "execution_count": 7,
     "metadata": {},
     "output_type": "execute_result"
    }
   ],
   "source": [
    "import nltk\n",
    "nltk.download('punkt')"
   ]
  },
  {
   "cell_type": "code",
   "execution_count": 8,
   "metadata": {},
   "outputs": [],
   "source": [
    "Poems = ndf.Poem.map(lambda x: nltk.tokenize.word_tokenize(x))"
   ]
  },
  {
   "cell_type": "code",
   "execution_count": 10,
   "metadata": {},
   "outputs": [],
   "source": [
    "punc = '''!()-[]{};:'\"\\,<>./?@#$%^&*_~'''\n",
    "for i in range(len(Poems)):\n",
    "    for j in Poems[i]:\n",
    "        if j in punc:\n",
    "            Poems[i].remove(j)"
   ]
  },
  {
   "cell_type": "code",
   "execution_count": 12,
   "metadata": {},
   "outputs": [],
   "source": [
    "def BiGram(dic, poem):\n",
    "    a = poem\n",
    "    b = poem[1:]\n",
    "    for i in range(len(b)):\n",
    "        if(a[i] in dic):\n",
    "            if(b[i] in dic[a[i]]):\n",
    "                dic[a[i]][b[i]] = dic[a[i]][b[i]]+1\n",
    "            else:\n",
    "                dic[a[i]][b[i]] = 1\n",
    "        else:\n",
    "            dic[a[i]]={b[i]:1}\n",
    "            \n",
    "    return(dic)"
   ]
  },
  {
   "cell_type": "code",
   "execution_count": 13,
   "metadata": {},
   "outputs": [],
   "source": [
    "dicBi = {} # The dictionary for the BiGram model\n",
    "for poem in Poems: #Feed it all the poems\n",
    "    dicBi = BiGram(dicBi, poem) #Build the model!"
   ]
  },
  {
   "cell_type": "code",
   "execution_count": 14,
   "metadata": {},
   "outputs": [],
   "source": [
    "def Next_word(word, dic):\n",
    "    Max = 0\n",
    "    next_word = \"\"\n",
    "    for i,j in list(dic[word].items()):\n",
    "        if(j>Max):\n",
    "            Max = j\n",
    "            next_word = i\n",
    "    return(next_word)"
   ]
  },
  {
   "cell_type": "code",
   "execution_count": 15,
   "metadata": {},
   "outputs": [],
   "source": [
    "prev_word = \"river\"\n",
    "generate_str = prev_word\n",
    "for i in range(20):\n",
    "    next_word = Next_word(prev_word, dicBi)\n",
    "    prev_word = next_word\n",
    "    generate_str = generate_str+\" \"+ next_word"
   ]
  },
  {
   "cell_type": "code",
   "execution_count": 259,
   "metadata": {},
   "outputs": [],
   "source": [
    "def NGram(dictionary, poem, nGram):\n",
    "    Number_of_Ngrams = len(poem)-nGram+1\n",
    "\n",
    "    for position in range(Number_of_Ngrams):\n",
    "        words = [] \n",
    "        for nWord in range(nGram):\n",
    "            words = words + [poem[nWord+position]]\n",
    "        temp_dic = dictionary\n",
    "\n",
    "        for nWord in range(nGram):\n",
    "            current_word = words[nWord]\n",
    "            last_word = nWord+1==nGram\n",
    "            if(current_word in temp_dic):\n",
    "                if(last_word):\n",
    "                    temp_dic[current_word] = temp_dic[current_word]+1 #Increase the Ngram Count by 1\n",
    "                else:    \n",
    "                    temp_dic = temp_dic[current_word]\n",
    "            else:\n",
    "                create_dic = 0\n",
    "                if(last_word):\n",
    "                    create_dic = 1\n",
    "                else:\n",
    "                    create_dic = {words[-1]:1}\n",
    "                \n",
    "                for k in range(nGram-2,nWord,-1):\n",
    "                    create_dic = {words[k]:create_dic}\n",
    "                temp_dic[current_word] = create_dic\n",
    "                break\n",
    "    return(dictionary)"
   ]
  },
  {
   "cell_type": "code",
   "execution_count": 260,
   "metadata": {},
   "outputs": [],
   "source": [
    "dic4 = {}\n",
    "for i in Poems:\n",
    "    dic4 = NGram(dic4, i,4)"
   ]
  },
  {
   "cell_type": "code",
   "execution_count": 261,
   "metadata": {},
   "outputs": [],
   "source": [
    "def Next_word3(word1,word2,word3, dic):\n",
    "    Max = 0\n",
    "    next_word = \"\"\n",
    "    for i,j in list(dic[word1][word2][word3].items()):\n",
    "        if(j>Max):\n",
    "            Max = j\n",
    "            next_word = i\n",
    "    return(next_word)\n",
    "#Next_word3(\"NEWLINE\",\"love\",\"is\",dic4)"
   ]
  },
  {
   "cell_type": "code",
   "execution_count": 264,
   "metadata": {},
   "outputs": [
    {
     "ename": "KeyError",
     "evalue": "'is'",
     "output_type": "error",
     "traceback": [
      "\u001b[1;31m---------------------------------------------------------------------------\u001b[0m",
      "\u001b[1;31mKeyError\u001b[0m                                  Traceback (most recent call last)",
      "Cell \u001b[1;32mIn[264], line 6\u001b[0m\n\u001b[0;32m      4\u001b[0m generate_str \u001b[39m=\u001b[39m prev_word1\u001b[39m+\u001b[39m\u001b[39m\"\u001b[39m\u001b[39m \u001b[39m\u001b[39m\"\u001b[39m\u001b[39m+\u001b[39mprev_word2 \u001b[39m+\u001b[39m \u001b[39m\"\u001b[39m\u001b[39m \u001b[39m\u001b[39m\"\u001b[39m \u001b[39m+\u001b[39mprev_word3\n\u001b[0;32m      5\u001b[0m \u001b[39mfor\u001b[39;00m i \u001b[39min\u001b[39;00m \u001b[39mrange\u001b[39m(\u001b[39m50\u001b[39m):\n\u001b[1;32m----> 6\u001b[0m     next_word \u001b[39m=\u001b[39m Next_word3(prev_word1, prev_word2,prev_word3, dic4)\n\u001b[0;32m      7\u001b[0m     prev_word1 \u001b[39m=\u001b[39m prev_word2\n\u001b[0;32m      8\u001b[0m     prev_word2 \u001b[39m=\u001b[39m prev_word3\n",
      "Cell \u001b[1;32mIn[261], line 4\u001b[0m, in \u001b[0;36mNext_word3\u001b[1;34m(word1, word2, word3, dic)\u001b[0m\n\u001b[0;32m      2\u001b[0m Max \u001b[39m=\u001b[39m \u001b[39m0\u001b[39m\n\u001b[0;32m      3\u001b[0m next_word \u001b[39m=\u001b[39m \u001b[39m\"\u001b[39m\u001b[39m\"\u001b[39m\n\u001b[1;32m----> 4\u001b[0m \u001b[39mfor\u001b[39;00m i,j \u001b[39min\u001b[39;00m \u001b[39mlist\u001b[39m(dic[word1][word2][word3]\u001b[39m.\u001b[39mitems()):\n\u001b[0;32m      5\u001b[0m     \u001b[39mif\u001b[39;00m(j\u001b[39m>\u001b[39mMax):\n\u001b[0;32m      6\u001b[0m         Max \u001b[39m=\u001b[39m j\n",
      "\u001b[1;31mKeyError\u001b[0m: 'is'"
     ]
    }
   ],
   "source": [
    "prev_word1 = \"elmer\"\n",
    "prev_word2 = \"is\"#\"Next_word(prev_word1, dic)\"\n",
    "prev_word3 = \"all\"# Next_word2(prev_word1,prev_word2, dic2)\n",
    "generate_str = prev_word1+\" \"+prev_word2 + \" \" +prev_word3\n",
    "for i in range(50):\n",
    "    next_word = Next_word3(prev_word1, prev_word2,prev_word3, dic4)\n",
    "    prev_word1 = prev_word2\n",
    "    prev_word2 = prev_word3\n",
    "    prev_word3 = next_word\n",
    "    generate_str = generate_str+\" \"+ next_word\n",
    "print(generate_str.replace(\"NEWLINE \",\"\\n\"))"
   ]
  },
  {
   "cell_type": "code",
   "execution_count": null,
   "metadata": {},
   "outputs": [],
   "source": [
    "# how should i go about generating new lines"
   ]
  },
  {
   "cell_type": "code",
   "execution_count": null,
   "metadata": {},
   "outputs": [],
   "source": [
    "# log the devices being used for tensorflow operations\n",
    "tf.debugging.set_log_device_placement(True)"
   ]
  },
  {
   "cell_type": "code",
   "execution_count": null,
   "metadata": {},
   "outputs": [],
   "source": []
  }
 ],
 "metadata": {
  "kernelspec": {
   "display_name": "Python 3",
   "language": "python",
   "name": "python3"
  },
  "language_info": {
   "codemirror_mode": {
    "name": "ipython",
    "version": 3
   },
   "file_extension": ".py",
   "mimetype": "text/x-python",
   "name": "python",
   "nbconvert_exporter": "python",
   "pygments_lexer": "ipython3",
   "version": "3.9.13"
  },
  "orig_nbformat": 4,
  "vscode": {
   "interpreter": {
    "hash": "a940dd860dc355cf12de7c6e789bde0b494d41255d0443cce9e7aeeb3f61f9d3"
   }
  }
 },
 "nbformat": 4,
 "nbformat_minor": 2
}
