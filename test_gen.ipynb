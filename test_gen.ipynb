{
 "cells": [
  {
   "cell_type": "code",
   "execution_count": null,
   "metadata": {},
   "outputs": [],
   "source": [
    "%pip install -r requirements.txt"
   ]
  },
  {
   "cell_type": "code",
   "execution_count": null,
   "metadata": {},
   "outputs": [],
   "source": [
    "# scrape https://www.poetryfoundation.org/poems/browse#page=1&sort_by=recently_added for 40,000 poems?"
   ]
  },
  {
   "cell_type": "code",
   "execution_count": 163,
   "metadata": {},
   "outputs": [],
   "source": [
    "import pandas as pd\n",
    "import tensorflow as tf\n",
    "import numpy as np\n",
    "import string\n",
    "import logging"
   ]
  },
  {
   "cell_type": "code",
   "execution_count": 235,
   "metadata": {},
   "outputs": [],
   "source": [
    "with open('hi.txt', encoding='utf-8') as f:\n",
    "    data = f.readlines()\n",
    "bad_chars = ',& '\n",
    "ndf = pd.DataFrame(columns=['Title', 'Author', 'Attributes', 'Poem'])\n",
    "start = 0\n",
    "for i in range(len(data)):\n",
    "    data[i] = data[i][:-1]\n",
    "    attr = None\n",
    "    if data[i] == '<|endoftext|>':\n",
    "        title_idx = data[start].find(' by ')\n",
    "        title = data[start][1:title_idx-2]\n",
    "        author = data[start][title_idx+4:]\n",
    "        if author[-1] == ']':\n",
    "            attr = author[author.find('[')+1:-1]\n",
    "            author = author[:author.find('[')]\n",
    "            attr = attr.replace('&', ' ').replace('   ', ',').lower()\n",
    "            attr = attr.split(',')\n",
    "            for j in range(len(attr)):\n",
    "                attr[j] = attr[j].strip()\n",
    "            while '' in attr:\n",
    "                attr.remove('')\n",
    "        pm = data[start+1:i]\n",
    "        while '' in pm:\n",
    "            pm.remove('')\n",
    "        t = ''\n",
    "        for j in range(len(pm)):\n",
    "            t += pm[j].lower()+' NEWLINE\\n '\n",
    "        temp = [title, author, attr, t]\n",
    "        ndf.loc[len(ndf)] = temp\n",
    "        start = i+1\n"
   ]
  },
  {
   "cell_type": "code",
   "execution_count": 241,
   "metadata": {},
   "outputs": [
    {
     "name": "stderr",
     "output_type": "stream",
     "text": [
      "[nltk_data] Downloading package punkt to\n",
      "[nltk_data]     C:\\Users\\oliver\\AppData\\Roaming\\nltk_data...\n",
      "[nltk_data]   Unzipping tokenizers\\punkt.zip.\n"
     ]
    },
    {
     "data": {
      "text/plain": [
       "True"
      ]
     },
     "execution_count": 241,
     "metadata": {},
     "output_type": "execute_result"
    }
   ],
   "source": [
    "import nltk\n",
    "nltk.download('punkt')"
   ]
  },
  {
   "cell_type": "code",
   "execution_count": 242,
   "metadata": {},
   "outputs": [],
   "source": [
    "Poems = ndf.Poem.map(lambda x: nltk.tokenize.word_tokenize(x))"
   ]
  },
  {
   "cell_type": "code",
   "execution_count": null,
   "metadata": {},
   "outputs": [],
   "source": [
    "Poems[0]"
   ]
  },
  {
   "cell_type": "code",
   "execution_count": 216,
   "metadata": {},
   "outputs": [],
   "source": [
    "ndf.to_csv('POEMS.csv', index=False)"
   ]
  },
  {
   "cell_type": "code",
   "execution_count": 116,
   "metadata": {},
   "outputs": [
    {
     "data": {
      "text/html": [
       "<div>\n",
       "<style scoped>\n",
       "    .dataframe tbody tr th:only-of-type {\n",
       "        vertical-align: middle;\n",
       "    }\n",
       "\n",
       "    .dataframe tbody tr th {\n",
       "        vertical-align: top;\n",
       "    }\n",
       "\n",
       "    .dataframe thead th {\n",
       "        text-align: right;\n",
       "    }\n",
       "</style>\n",
       "<table border=\"1\" class=\"dataframe\">\n",
       "  <thead>\n",
       "    <tr style=\"text-align: right;\">\n",
       "      <th></th>\n",
       "      <th>Title</th>\n",
       "      <th>Author</th>\n",
       "      <th>Poem</th>\n",
       "    </tr>\n",
       "  </thead>\n",
       "  <tbody>\n",
       "    <tr>\n",
       "      <th>0</th>\n",
       "      <td>Objects Used to Prop Open a Window</td>\n",
       "      <td>Michelle Menting</td>\n",
       "      <td>['Dog bone, stapler,', 'cribbage board, garlic...</td>\n",
       "    </tr>\n",
       "    <tr>\n",
       "      <th>1</th>\n",
       "      <td>The New Church</td>\n",
       "      <td>Lucia Cherciu</td>\n",
       "      <td>['The old cupola glinted above the clouds, sho...</td>\n",
       "    </tr>\n",
       "    <tr>\n",
       "      <th>2</th>\n",
       "      <td>Look for Me</td>\n",
       "      <td>Ted Kooser</td>\n",
       "      <td>['Look for me under the hood', 'of that old Ch...</td>\n",
       "    </tr>\n",
       "    <tr>\n",
       "      <th>3</th>\n",
       "      <td>Wild Life</td>\n",
       "      <td>Grace Cavalieri</td>\n",
       "      <td>['Behind the silo, the Mother Rabbit', 'hunche...</td>\n",
       "    </tr>\n",
       "    <tr>\n",
       "      <th>4</th>\n",
       "      <td>Umbrella</td>\n",
       "      <td>Connie Wanek</td>\n",
       "      <td>['When I push your button', 'you fly off the h...</td>\n",
       "    </tr>\n",
       "    <tr>\n",
       "      <th>...</th>\n",
       "      <td>...</td>\n",
       "      <td>...</td>\n",
       "      <td>...</td>\n",
       "    </tr>\n",
       "    <tr>\n",
       "      <th>13544</th>\n",
       "      <td>!</td>\n",
       "      <td>Wendy Videlock [Relationships, Gay,  Lesbian,  Qu</td>\n",
       "      <td>['Dear Writers, I’m compiling the first in wha...</td>\n",
       "    </tr>\n",
       "    <tr>\n",
       "      <th>13545</th>\n",
       "      <td>1 January 1965</td>\n",
       "      <td>Joseph Brodsky [Living, Death, Growi</td>\n",
       "      <td>['The Wise Men will unlearn your name.', 'Abov...</td>\n",
       "    </tr>\n",
       "    <tr>\n",
       "      <th>13546</th>\n",
       "      <td>1-800-FEAR</td>\n",
       "      <td>Jody Gladding [Living, Social Commentari</td>\n",
       "      <td>[\"We'd like to talk with you about fear they s...</td>\n",
       "    </tr>\n",
       "    <tr>\n",
       "      <th>13547</th>\n",
       "      <td>0</td>\n",
       "      <td>Hailey Leithauser [Arts &amp; Sciences, Philosophy]</td>\n",
       "      <td>['Philosophic', 'in its complex, ovoid emptine...</td>\n",
       "    </tr>\n",
       "    <tr>\n",
       "      <th>13548</th>\n",
       "      <td>!</td>\n",
       "      <td>Wendy Videlock [Relationships, Gay,  Lesbian,  Qu</td>\n",
       "      <td>['Dear Writers, I’m compiling the first in wha...</td>\n",
       "    </tr>\n",
       "  </tbody>\n",
       "</table>\n",
       "<p>13549 rows × 3 columns</p>\n",
       "</div>"
      ],
      "text/plain": [
       "                                    Title  \\\n",
       "0      Objects Used to Prop Open a Window   \n",
       "1                          The New Church   \n",
       "2                             Look for Me   \n",
       "3                               Wild Life   \n",
       "4                                Umbrella   \n",
       "...                                   ...   \n",
       "13544                                   !   \n",
       "13545                      1 January 1965   \n",
       "13546                          1-800-FEAR   \n",
       "13547                                   0   \n",
       "13548                                   !   \n",
       "\n",
       "                                                  Author  \\\n",
       "0                                       Michelle Menting   \n",
       "1                                          Lucia Cherciu   \n",
       "2                                             Ted Kooser   \n",
       "3                                        Grace Cavalieri   \n",
       "4                                           Connie Wanek   \n",
       "...                                                  ...   \n",
       "13544  Wendy Videlock [Relationships, Gay,  Lesbian,  Qu   \n",
       "13545               Joseph Brodsky [Living, Death, Growi   \n",
       "13546           Jody Gladding [Living, Social Commentari   \n",
       "13547    Hailey Leithauser [Arts & Sciences, Philosophy]   \n",
       "13548  Wendy Videlock [Relationships, Gay,  Lesbian,  Qu   \n",
       "\n",
       "                                                    Poem  \n",
       "0      ['Dog bone, stapler,', 'cribbage board, garlic...  \n",
       "1      ['The old cupola glinted above the clouds, sho...  \n",
       "2      ['Look for me under the hood', 'of that old Ch...  \n",
       "3      ['Behind the silo, the Mother Rabbit', 'hunche...  \n",
       "4      ['When I push your button', 'you fly off the h...  \n",
       "...                                                  ...  \n",
       "13544  ['Dear Writers, I’m compiling the first in wha...  \n",
       "13545  ['The Wise Men will unlearn your name.', 'Abov...  \n",
       "13546  [\"We'd like to talk with you about fear they s...  \n",
       "13547  ['Philosophic', 'in its complex, ovoid emptine...  \n",
       "13548  ['Dear Writers, I’m compiling the first in wha...  \n",
       "\n",
       "[13549 rows x 3 columns]"
      ]
     },
     "execution_count": 116,
     "metadata": {},
     "output_type": "execute_result"
    }
   ],
   "source": [
    "for i in range(len(df)):\n",
    "    if df.Author[i][-1] == ']':\n",
    "        df.Title[i] += "
   ]
  },
  {
   "cell_type": "code",
   "execution_count": null,
   "metadata": {},
   "outputs": [],
   "source": [
    "# cleaning up poems\n",
    "for i in range(len(df)):\n",
    "    temp = df.Poem[i].strip()\n",
    "    temp = temp.split('\\r\\r\\n')\n",
    "    temp = [t.strip() for t in temp]\n",
    "    df.Poem[i] = [t for t in temp if t]\n",
    "    df.Title[i] = df.Title[i].strip()"
   ]
  },
  {
   "cell_type": "code",
   "execution_count": null,
   "metadata": {},
   "outputs": [],
   "source": [
    "# df.to_csv('clean_poems.csv', index=False, encoding='utf-8')"
   ]
  },
  {
   "cell_type": "code",
   "execution_count": null,
   "metadata": {},
   "outputs": [],
   "source": [
    "# how should i go about generating new lines"
   ]
  },
  {
   "cell_type": "code",
   "execution_count": null,
   "metadata": {},
   "outputs": [],
   "source": [
    "df = pd.read_csv('clean_poems.csv')"
   ]
  },
  {
   "cell_type": "code",
   "execution_count": null,
   "metadata": {},
   "outputs": [],
   "source": [
    "df.Poem[13851]"
   ]
  },
  {
   "cell_type": "code",
   "execution_count": null,
   "metadata": {},
   "outputs": [],
   "source": [
    "import fasttext"
   ]
  },
  {
   "cell_type": "code",
   "execution_count": null,
   "metadata": {},
   "outputs": [],
   "source": [
    "model = fasttext.train_unsupervised(poems, model='skipgram')"
   ]
  },
  {
   "cell_type": "code",
   "execution_count": null,
   "metadata": {},
   "outputs": [],
   "source": [
    "# log the devices being used for tensorflow operations\n",
    "tf.debugging.set_log_device_placement(True)"
   ]
  },
  {
   "cell_type": "code",
   "execution_count": null,
   "metadata": {},
   "outputs": [],
   "source": []
  }
 ],
 "metadata": {
  "kernelspec": {
   "display_name": "Python 3",
   "language": "python",
   "name": "python3"
  },
  "language_info": {
   "codemirror_mode": {
    "name": "ipython",
    "version": 3
   },
   "file_extension": ".py",
   "mimetype": "text/x-python",
   "name": "python",
   "nbconvert_exporter": "python",
   "pygments_lexer": "ipython3",
   "version": "3.9.13"
  },
  "orig_nbformat": 4,
  "vscode": {
   "interpreter": {
    "hash": "a940dd860dc355cf12de7c6e789bde0b494d41255d0443cce9e7aeeb3f61f9d3"
   }
  }
 },
 "nbformat": 4,
 "nbformat_minor": 2
}
